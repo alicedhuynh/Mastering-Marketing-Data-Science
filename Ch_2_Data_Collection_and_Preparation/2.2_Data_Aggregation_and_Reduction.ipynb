{
 "cells": [
  {
   "cell_type": "markdown",
   "metadata": {},
   "source": [
    "Objective: Perform data aggregation and dimensionality reduction on a marketing dataset"
   ]
  },
  {
   "cell_type": "code",
   "execution_count": 2,
   "metadata": {},
   "outputs": [],
   "source": [
    "# import require libraries\n",
    "import pandas as pd\n",
    "from sklearn.decomposition import PCA\n",
    "import matplotlib.pyplot as plt\n",
    "\n",
    "# loading the data\n",
    "data = pd.read_csv('Datasets/MMDS_c02_Data/data_aggregation_reduction.csv')"
   ]
  },
  {
   "cell_type": "markdown",
   "metadata": {},
   "source": [
    "Task 1\n",
    "Aggregate the \"data_aggregatiion_reduction.csv\" data by 'Region' and calculate the average 'Monthly Spend' and total 'Purchases Frequency' per region\n"
   ]
  },
  {
   "cell_type": "code",
   "execution_count": 30,
   "metadata": {},
   "outputs": [
    {
     "name": "stdout",
     "output_type": "stream",
     "text": [
      "<class 'pandas.core.frame.DataFrame'>\n",
      "RangeIndex: 1000 entries, 0 to 999\n",
      "Data columns (total 6 columns):\n",
      " #   Column              Non-Null Count  Dtype  \n",
      "---  ------              --------------  -----  \n",
      " 0   Customer ID         1000 non-null   int64  \n",
      " 1   Age Group           1000 non-null   object \n",
      " 2   Region              1000 non-null   object \n",
      " 3   Monthly Spend ($)   1000 non-null   float64\n",
      " 4   Product Category    1000 non-null   object \n",
      " 5   Purchase Frequency  1000 non-null   int64  \n",
      "dtypes: float64(1), int64(2), object(3)\n",
      "memory usage: 47.0+ KB\n"
     ]
    }
   ],
   "source": [
    "data.info()"
   ]
  },
  {
   "cell_type": "code",
   "execution_count": 29,
   "metadata": {},
   "outputs": [],
   "source": [
    "# Data aggregation\n",
    "# Aggregating by 'Region':\n",
    "# book way: region_aggregated_data = data.groupby('Region').agg( Average_Monthly_Spend=pd.NamedAgg(column='Monthly Spend ($)', aggfunc='mean'), Total_Purchase_Frequency=pd.NamedAgg(column='Purchase Frequency', aggfunc='sum') ).reset_index()\n",
    "\n",
    "region_aggregated_data = data.groupby('Region').agg(\n",
    "    Avg_Monthly_Spend=('Monthly Spend ($)', 'mean'),\n",
    "    Total_Purchase_Frequency=('Purchase Frequency', 'sum')\n",
    "    ).reset_index()"
   ]
  },
  {
   "cell_type": "code",
   "execution_count": 28,
   "metadata": {},
   "outputs": [
    {
     "data": {
      "text/html": [
       "<div>\n",
       "<style scoped>\n",
       "    .dataframe tbody tr th:only-of-type {\n",
       "        vertical-align: middle;\n",
       "    }\n",
       "\n",
       "    .dataframe tbody tr th {\n",
       "        vertical-align: top;\n",
       "    }\n",
       "\n",
       "    .dataframe thead th {\n",
       "        text-align: right;\n",
       "    }\n",
       "</style>\n",
       "<table border=\"1\" class=\"dataframe\">\n",
       "  <thead>\n",
       "    <tr style=\"text-align: right;\">\n",
       "      <th></th>\n",
       "      <th>Region</th>\n",
       "      <th>Avg_Monthly_Ppend</th>\n",
       "      <th>Total_Purchases_Frequency</th>\n",
       "    </tr>\n",
       "  </thead>\n",
       "  <tbody>\n",
       "    <tr>\n",
       "      <th>0</th>\n",
       "      <td>East</td>\n",
       "      <td>273.567194</td>\n",
       "      <td>2423</td>\n",
       "    </tr>\n",
       "    <tr>\n",
       "      <th>1</th>\n",
       "      <td>North</td>\n",
       "      <td>264.172629</td>\n",
       "      <td>2645</td>\n",
       "    </tr>\n",
       "    <tr>\n",
       "      <th>2</th>\n",
       "      <td>South</td>\n",
       "      <td>290.110025</td>\n",
       "      <td>2712</td>\n",
       "    </tr>\n",
       "    <tr>\n",
       "      <th>3</th>\n",
       "      <td>West</td>\n",
       "      <td>265.984319</td>\n",
       "      <td>2464</td>\n",
       "    </tr>\n",
       "  </tbody>\n",
       "</table>\n",
       "</div>"
      ],
      "text/plain": [
       "  Region  Avg_Monthly_Ppend  Total_Purchases_Frequency\n",
       "0   East         273.567194                       2423\n",
       "1  North         264.172629                       2645\n",
       "2  South         290.110025                       2712\n",
       "3   West         265.984319                       2464"
      ]
     },
     "execution_count": 28,
     "metadata": {},
     "output_type": "execute_result"
    }
   ],
   "source": [
    "region_aggregated_data"
   ]
  },
  {
   "cell_type": "markdown",
   "metadata": {},
   "source": [
    "Task 2 \n",
    "Perform a principal component analysis (PCA) to reduce the dimensions of of the data while retaining key information."
   ]
  },
  {
   "cell_type": "code",
   "execution_count": 33,
   "metadata": {},
   "outputs": [],
   "source": [
    "# Data Reduction using Principle Component Analysis (PCA)\n",
    "# Prepareing Data for PCA:\n",
    "pca_data = data[['Monthly Spend ($)', 'Purchase Frequency']]"
   ]
  },
  {
   "cell_type": "markdown",
   "metadata": {},
   "source": [
    "Standardized the data: \n",
    "$x_{standardized} = \\frac{x- \\mu}{\\sigma}$ where: $x$ is the orginal value, $\\mu$ is the mean of the feature, $\\sigma$ is the standard deviation of the feature\n",
    "\n",
    "PCA is sentive to the scale of the data so we standarize the features to the mean of 0 and a standard deviation of 1\n"
   ]
  },
  {
   "cell_type": "code",
   "execution_count": 37,
   "metadata": {},
   "outputs": [
    {
     "name": "stdout",
     "output_type": "stream",
     "text": [
      "     Monthly Spend ($)  Purchase Frequency\n",
      "0             0.280105            1.071056\n",
      "1            -0.646991           -1.161861\n",
      "2             1.492986            1.629285\n",
      "3             0.070849            0.512827\n",
      "4            -0.359618            0.140674\n",
      "..                 ...                 ...\n",
      "995           0.561980            1.443209\n",
      "996           0.091150            1.071056\n",
      "997           0.902244           -0.603632\n",
      "998          -1.619106           -1.534014\n",
      "999          -1.048083           -1.347937\n",
      "\n",
      "[1000 rows x 2 columns]\n",
      "[[ 0.28024558  1.07159168]\n",
      " [-0.64731493 -1.16244239]\n",
      " [ 1.49373284  1.63010019]\n",
      " ...\n",
      " [ 0.90269579 -0.60393388]\n",
      " [-1.61991584 -1.53478141]\n",
      " [-1.04860786 -1.3486119 ]]\n"
     ]
    }
   ],
   "source": [
    "# standardized the data\n",
    "pca_data_standardized = (pca_data-pca_data.mean()) / pca_data.std()\n",
    "\n",
    "#Alternative code:\n",
    "from sklearn.preprocessing import StandardScaler\n",
    "pca_data_standardized_a= StandardScaler().fit_transform(pca_data)\n",
    "\n",
    "\n",
    "print(pca_data_standardized)\n",
    "print(pca_data_standardized_a)"
   ]
  },
  {
   "cell_type": "code",
   "execution_count": 40,
   "metadata": {},
   "outputs": [
    {
     "name": "stdout",
     "output_type": "stream",
     "text": [
      "[[ 0.55928634  0.95541522]\n",
      " [-0.36406795 -1.27905167]\n",
      " [ 0.09637806  2.2077788 ]\n",
      " ...\n",
      " [-1.06481524  0.21115092]\n",
      " [ 0.06016903 -2.22959218]\n",
      " [-0.2120288  -1.69424259]]\n",
      "[[ 0.55956619  0.95589329]\n",
      " [-0.36425012 -1.27969168]\n",
      " [ 0.09642628  2.20888352]\n",
      " ...\n",
      " [-1.06534805  0.21125657]\n",
      " [ 0.06019914 -2.23070782]\n",
      " [-0.21213489 -1.69509035]]\n"
     ]
    }
   ],
   "source": [
    "pca = PCA(n_components=2)\n",
    "principal_components = pca.fit_transform(pca_data_standardized)\n",
    "principal_components_a = pca.fit_transform(pca_data_standardized_a)\n",
    "\n",
    "print(principal_components)\n",
    "print(principal_components_a)"
   ]
  },
  {
   "cell_type": "code",
   "execution_count": 43,
   "metadata": {},
   "outputs": [
    {
     "data": {
      "text/html": [
       "<div>\n",
       "<style scoped>\n",
       "    .dataframe tbody tr th:only-of-type {\n",
       "        vertical-align: middle;\n",
       "    }\n",
       "\n",
       "    .dataframe tbody tr th {\n",
       "        vertical-align: top;\n",
       "    }\n",
       "\n",
       "    .dataframe thead th {\n",
       "        text-align: right;\n",
       "    }\n",
       "</style>\n",
       "<table border=\"1\" class=\"dataframe\">\n",
       "  <thead>\n",
       "    <tr style=\"text-align: right;\">\n",
       "      <th></th>\n",
       "      <th>Principal Component 1</th>\n",
       "      <th>Principal Component 2</th>\n",
       "    </tr>\n",
       "  </thead>\n",
       "  <tbody>\n",
       "    <tr>\n",
       "      <th>0</th>\n",
       "      <td>0.559286</td>\n",
       "      <td>0.955415</td>\n",
       "    </tr>\n",
       "    <tr>\n",
       "      <th>1</th>\n",
       "      <td>-0.364068</td>\n",
       "      <td>-1.279052</td>\n",
       "    </tr>\n",
       "    <tr>\n",
       "      <th>2</th>\n",
       "      <td>0.096378</td>\n",
       "      <td>2.207779</td>\n",
       "    </tr>\n",
       "    <tr>\n",
       "      <th>3</th>\n",
       "      <td>0.312525</td>\n",
       "      <td>0.412721</td>\n",
       "    </tr>\n",
       "    <tr>\n",
       "      <th>4</th>\n",
       "      <td>0.353760</td>\n",
       "      <td>-0.154817</td>\n",
       "    </tr>\n",
       "    <tr>\n",
       "      <th>...</th>\n",
       "      <td>...</td>\n",
       "      <td>...</td>\n",
       "    </tr>\n",
       "    <tr>\n",
       "      <th>995</th>\n",
       "      <td>0.623123</td>\n",
       "      <td>1.417882</td>\n",
       "    </tr>\n",
       "    <tr>\n",
       "      <th>996</th>\n",
       "      <td>0.692898</td>\n",
       "      <td>0.821804</td>\n",
       "    </tr>\n",
       "    <tr>\n",
       "      <th>997</th>\n",
       "      <td>-1.064815</td>\n",
       "      <td>0.211151</td>\n",
       "    </tr>\n",
       "    <tr>\n",
       "      <th>998</th>\n",
       "      <td>0.060169</td>\n",
       "      <td>-2.229592</td>\n",
       "    </tr>\n",
       "    <tr>\n",
       "      <th>999</th>\n",
       "      <td>-0.212029</td>\n",
       "      <td>-1.694243</td>\n",
       "    </tr>\n",
       "  </tbody>\n",
       "</table>\n",
       "<p>1000 rows × 2 columns</p>\n",
       "</div>"
      ],
      "text/plain": [
       "     Principal Component 1  Principal Component 2\n",
       "0                 0.559286               0.955415\n",
       "1                -0.364068              -1.279052\n",
       "2                 0.096378               2.207779\n",
       "3                 0.312525               0.412721\n",
       "4                 0.353760              -0.154817\n",
       "..                     ...                    ...\n",
       "995               0.623123               1.417882\n",
       "996               0.692898               0.821804\n",
       "997              -1.064815               0.211151\n",
       "998               0.060169              -2.229592\n",
       "999              -0.212029              -1.694243\n",
       "\n",
       "[1000 rows x 2 columns]"
      ]
     },
     "execution_count": 43,
     "metadata": {},
     "output_type": "execute_result"
    }
   ],
   "source": [
    "# Creating DataFrame with Principal Components: \n",
    "principal_df = pd.DataFrame(data=principal_components, columns = ['Principal Component 1', 'Principal Component 2'])\n",
    "principal_df"
   ]
  },
  {
   "cell_type": "code",
   "execution_count": 44,
   "metadata": {},
   "outputs": [
    {
     "data": {
      "text/html": [
       "<div>\n",
       "<style scoped>\n",
       "    .dataframe tbody tr th:only-of-type {\n",
       "        vertical-align: middle;\n",
       "    }\n",
       "\n",
       "    .dataframe tbody tr th {\n",
       "        vertical-align: top;\n",
       "    }\n",
       "\n",
       "    .dataframe thead th {\n",
       "        text-align: right;\n",
       "    }\n",
       "</style>\n",
       "<table border=\"1\" class=\"dataframe\">\n",
       "  <thead>\n",
       "    <tr style=\"text-align: right;\">\n",
       "      <th></th>\n",
       "      <th>PC 1</th>\n",
       "      <th>PC 2</th>\n",
       "    </tr>\n",
       "  </thead>\n",
       "  <tbody>\n",
       "    <tr>\n",
       "      <th>0</th>\n",
       "      <td>0.559566</td>\n",
       "      <td>0.955893</td>\n",
       "    </tr>\n",
       "    <tr>\n",
       "      <th>1</th>\n",
       "      <td>-0.364250</td>\n",
       "      <td>-1.279692</td>\n",
       "    </tr>\n",
       "    <tr>\n",
       "      <th>2</th>\n",
       "      <td>0.096426</td>\n",
       "      <td>2.208884</td>\n",
       "    </tr>\n",
       "    <tr>\n",
       "      <th>3</th>\n",
       "      <td>0.312682</td>\n",
       "      <td>0.412927</td>\n",
       "    </tr>\n",
       "    <tr>\n",
       "      <th>4</th>\n",
       "      <td>0.353937</td>\n",
       "      <td>-0.154895</td>\n",
       "    </tr>\n",
       "    <tr>\n",
       "      <th>...</th>\n",
       "      <td>...</td>\n",
       "      <td>...</td>\n",
       "    </tr>\n",
       "    <tr>\n",
       "      <th>995</th>\n",
       "      <td>0.623435</td>\n",
       "      <td>1.418592</td>\n",
       "    </tr>\n",
       "    <tr>\n",
       "      <th>996</th>\n",
       "      <td>0.693245</td>\n",
       "      <td>0.822215</td>\n",
       "    </tr>\n",
       "    <tr>\n",
       "      <th>997</th>\n",
       "      <td>-1.065348</td>\n",
       "      <td>0.211257</td>\n",
       "    </tr>\n",
       "    <tr>\n",
       "      <th>998</th>\n",
       "      <td>0.060199</td>\n",
       "      <td>-2.230708</td>\n",
       "    </tr>\n",
       "    <tr>\n",
       "      <th>999</th>\n",
       "      <td>-0.212135</td>\n",
       "      <td>-1.695090</td>\n",
       "    </tr>\n",
       "  </tbody>\n",
       "</table>\n",
       "<p>1000 rows × 2 columns</p>\n",
       "</div>"
      ],
      "text/plain": [
       "         PC 1      PC 2\n",
       "0    0.559566  0.955893\n",
       "1   -0.364250 -1.279692\n",
       "2    0.096426  2.208884\n",
       "3    0.312682  0.412927\n",
       "4    0.353937 -0.154895\n",
       "..        ...       ...\n",
       "995  0.623435  1.418592\n",
       "996  0.693245  0.822215\n",
       "997 -1.065348  0.211257\n",
       "998  0.060199 -2.230708\n",
       "999 -0.212135 -1.695090\n",
       "\n",
       "[1000 rows x 2 columns]"
      ]
     },
     "execution_count": 44,
     "metadata": {},
     "output_type": "execute_result"
    }
   ],
   "source": [
    "principal_df_a = pd.DataFrame(data=principal_components_a, columns =['PC 1', 'PC 2'])\n",
    "principal_df_a\n",
    "                              "
   ]
  }
 ],
 "metadata": {
  "kernelspec": {
   "display_name": "Python 3",
   "language": "python",
   "name": "python3"
  },
  "language_info": {
   "codemirror_mode": {
    "name": "ipython",
    "version": 3
   },
   "file_extension": ".py",
   "mimetype": "text/x-python",
   "name": "python",
   "nbconvert_exporter": "python",
   "pygments_lexer": "ipython3",
   "version": "3.11.9"
  }
 },
 "nbformat": 4,
 "nbformat_minor": 2
}

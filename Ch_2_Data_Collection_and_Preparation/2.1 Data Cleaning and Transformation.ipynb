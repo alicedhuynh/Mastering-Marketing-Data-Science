{
 "cells": [
  {
   "cell_type": "markdown",
   "metadata": {},
   "source": [
    "** Objective:** Clean and transform a dataset to prepare it for analysis"
   ]
  },
  {
   "cell_type": "code",
   "execution_count": 3,
   "metadata": {},
   "outputs": [],
   "source": [
    "# import requried libraries\n",
    "import pandas as pd\n",
    "\n",
    "# load the data\n",
    "data_2_1 = pd.read_csv('Datasets/MMDS_c02_Data/data_cleaning_transformation.csv')"
   ]
  },
  {
   "cell_type": "markdown",
   "metadata": {},
   "source": [
    "Task 1\n",
    "Handle missing values (NaN) in the data \"data_cleaning_transformation.csv\" dataset"
   ]
  },
  {
   "cell_type": "code",
   "execution_count": 10,
   "metadata": {},
   "outputs": [
    {
     "name": "stderr",
     "output_type": "stream",
     "text": [
      "C:\\Users\\Alice\\AppData\\Local\\Temp\\ipykernel_40768\\2778447020.py:3: FutureWarning: A value is trying to be set on a copy of a DataFrame or Series through chained assignment using an inplace method.\n",
      "The behavior will change in pandas 3.0. This inplace method will never work because the intermediate object on which we are setting values always behaves as a copy.\n",
      "\n",
      "For example, when doing 'df[col].method(value, inplace=True)', try using 'df.method({col: value}, inplace=True)' or df[col] = df[col].method(value) instead, to perform the operation inplace on the original object.\n",
      "\n",
      "\n",
      "  data_2_1['Age'].fillna(mean_age, inplace = True)\n"
     ]
    }
   ],
   "source": [
    "# Filling Missing 'Age' Values:\n",
    "mean_age = data_2_1['Age'].mean()\n",
    "data_2_1['Age'].fillna(mean_age, inplace = True)"
   ]
  },
  {
   "cell_type": "code",
   "execution_count": 11,
   "metadata": {},
   "outputs": [
    {
     "name": "stderr",
     "output_type": "stream",
     "text": [
      "C:\\Users\\Alice\\AppData\\Local\\Temp\\ipykernel_40768\\1145733347.py:3: FutureWarning: A value is trying to be set on a copy of a DataFrame or Series through chained assignment using an inplace method.\n",
      "The behavior will change in pandas 3.0. This inplace method will never work because the intermediate object on which we are setting values always behaves as a copy.\n",
      "\n",
      "For example, when doing 'df[col].method(value, inplace=True)', try using 'df.method({col: value}, inplace=True)' or df[col] = df[col].method(value) instead, to perform the operation inplace on the original object.\n",
      "\n",
      "\n",
      "  data_2_1['Monthly Spend ($)'].fillna(median_monthly_spend, inplace = True)\n"
     ]
    }
   ],
   "source": [
    "# Filling Missing 'Monthly Spend' Value:\n",
    "median_monthly_spend = data_2_1['Monthly Spend ($)'].median()\n",
    "data_2_1['Monthly Spend ($)'].fillna(median_monthly_spend, inplace = True)"
   ]
  },
  {
   "cell_type": "code",
   "execution_count": 12,
   "metadata": {},
   "outputs": [
    {
     "name": "stderr",
     "output_type": "stream",
     "text": [
      "C:\\Users\\Alice\\AppData\\Local\\Temp\\ipykernel_40768\\3776177789.py:3: FutureWarning: A value is trying to be set on a copy of a DataFrame or Series through chained assignment using an inplace method.\n",
      "The behavior will change in pandas 3.0. This inplace method will never work because the intermediate object on which we are setting values always behaves as a copy.\n",
      "\n",
      "For example, when doing 'df[col].method(value, inplace=True)', try using 'df.method({col: value}, inplace=True)' or df[col] = df[col].method(value) instead, to perform the operation inplace on the original object.\n",
      "\n",
      "\n",
      "  data_2_1['Feedback Score'].fillna(mode_feedback, inplace=True)\n"
     ]
    }
   ],
   "source": [
    "# Filling Missing 'Feedback Score' Values\n",
    "mode_feedback = data_2_1['Feedback Score'].mode()[0]\n",
    "data_2_1['Feedback Score'].fillna(mode_feedback, inplace=True)"
   ]
  },
  {
   "cell_type": "markdown",
   "metadata": {},
   "source": [
    "Task 2 \n",
    "Convert the 'Last Login Date' from a strong in datetime object.\n"
   ]
  },
  {
   "cell_type": "code",
   "execution_count": 13,
   "metadata": {},
   "outputs": [],
   "source": [
    "# Converting 'Last Login Date' to Datetime\n",
    "data_2_1['Last Login Date'] = pd.to_datetime(data_2_1['Last Login Date'])"
   ]
  },
  {
   "cell_type": "markdown",
   "metadata": {},
   "source": [
    "Task 3\n",
    "Create a new feature, 'Monthly Spend per Day', by divding 'Monthly Spend' by 'Subscription Length'"
   ]
  },
  {
   "cell_type": "code",
   "execution_count": 15,
   "metadata": {},
   "outputs": [],
   "source": [
    "# Create New Feature: 'Monthly Spend per Day'\n",
    "data_2_1['Monthly Spend per Day'] = data_2_1['Monthly Spend ($)'] / data_2_1['Subscription Length (days)']"
   ]
  },
  {
   "cell_type": "code",
   "execution_count": 16,
   "metadata": {},
   "outputs": [
    {
     "data": {
      "text/html": [
       "<div>\n",
       "<style scoped>\n",
       "    .dataframe tbody tr th:only-of-type {\n",
       "        vertical-align: middle;\n",
       "    }\n",
       "\n",
       "    .dataframe tbody tr th {\n",
       "        vertical-align: top;\n",
       "    }\n",
       "\n",
       "    .dataframe thead th {\n",
       "        text-align: right;\n",
       "    }\n",
       "</style>\n",
       "<table border=\"1\" class=\"dataframe\">\n",
       "  <thead>\n",
       "    <tr style=\"text-align: right;\">\n",
       "      <th></th>\n",
       "      <th>Customer ID</th>\n",
       "      <th>Age</th>\n",
       "      <th>Subscription Length (days)</th>\n",
       "      <th>Monthly Spend ($)</th>\n",
       "      <th>Last Login Date</th>\n",
       "      <th>Feedback Score</th>\n",
       "      <th>Monthly Spend per Day</th>\n",
       "    </tr>\n",
       "  </thead>\n",
       "  <tbody>\n",
       "    <tr>\n",
       "      <th>0</th>\n",
       "      <td>1</td>\n",
       "      <td>62.000000</td>\n",
       "      <td>260</td>\n",
       "      <td>112.885600</td>\n",
       "      <td>2022-01-01</td>\n",
       "      <td>5.0</td>\n",
       "      <td>0.434175</td>\n",
       "    </tr>\n",
       "    <tr>\n",
       "      <th>1</th>\n",
       "      <td>2</td>\n",
       "      <td>42.951111</td>\n",
       "      <td>180</td>\n",
       "      <td>288.359067</td>\n",
       "      <td>2022-01-02</td>\n",
       "      <td>5.0</td>\n",
       "      <td>1.601995</td>\n",
       "    </tr>\n",
       "    <tr>\n",
       "      <th>2</th>\n",
       "      <td>3</td>\n",
       "      <td>18.000000</td>\n",
       "      <td>60</td>\n",
       "      <td>72.973879</td>\n",
       "      <td>2022-01-03</td>\n",
       "      <td>1.0</td>\n",
       "      <td>1.216231</td>\n",
       "    </tr>\n",
       "    <tr>\n",
       "      <th>3</th>\n",
       "      <td>4</td>\n",
       "      <td>21.000000</td>\n",
       "      <td>285</td>\n",
       "      <td>199.070996</td>\n",
       "      <td>2022-01-04</td>\n",
       "      <td>3.0</td>\n",
       "      <td>0.698495</td>\n",
       "    </tr>\n",
       "    <tr>\n",
       "      <th>4</th>\n",
       "      <td>5</td>\n",
       "      <td>21.000000</td>\n",
       "      <td>49</td>\n",
       "      <td>194.146829</td>\n",
       "      <td>2022-01-05</td>\n",
       "      <td>5.0</td>\n",
       "      <td>3.962180</td>\n",
       "    </tr>\n",
       "  </tbody>\n",
       "</table>\n",
       "</div>"
      ],
      "text/plain": [
       "   Customer ID        Age  Subscription Length (days)  Monthly Spend ($)  \\\n",
       "0            1  62.000000                         260         112.885600   \n",
       "1            2  42.951111                         180         288.359067   \n",
       "2            3  18.000000                          60          72.973879   \n",
       "3            4  21.000000                         285         199.070996   \n",
       "4            5  21.000000                          49         194.146829   \n",
       "\n",
       "  Last Login Date  Feedback Score  Monthly Spend per Day  \n",
       "0      2022-01-01             5.0               0.434175  \n",
       "1      2022-01-02             5.0               1.601995  \n",
       "2      2022-01-03             1.0               1.216231  \n",
       "3      2022-01-04             3.0               0.698495  \n",
       "4      2022-01-05             5.0               3.962180  "
      ]
     },
     "execution_count": 16,
     "metadata": {},
     "output_type": "execute_result"
    }
   ],
   "source": [
    "data_2_1.head()"
   ]
  },
  {
   "cell_type": "markdown",
   "metadata": {},
   "source": [
    "changes"
   ]
  }
 ],
 "metadata": {
  "kernelspec": {
   "display_name": "Python 3",
   "language": "python",
   "name": "python3"
  },
  "language_info": {
   "codemirror_mode": {
    "name": "ipython",
    "version": 3
   },
   "file_extension": ".py",
   "mimetype": "text/x-python",
   "name": "python",
   "nbconvert_exporter": "python",
   "pygments_lexer": "ipython3",
   "version": "3.11.9"
  }
 },
 "nbformat": 4,
 "nbformat_minor": 2
}
